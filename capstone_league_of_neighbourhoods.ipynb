{
 "cells": [
  {
   "cell_type": "markdown",
   "metadata": {},
   "source": [
    "# League of Toronto's Neighbourhoods in Sports Centers"
   ]
  },
  {
   "cell_type": "markdown",
   "metadata": {},
   "source": [
    "### Introduction"
   ]
  },
  {
   "cell_type": "markdown",
   "metadata": {},
   "source": [
    "Regular exercise provides ultimate health benefits. The latest studies suggest that at least [75 minutes][1] of rigorous exercise a week is critically important to lead a healthier and happier life. Even though we all know that  exercise is important, people (in general) often miss exercising due to many reasons. Few of them are being tired, lazy, missing workout buddies, silly excuses and much more. However, we often miss the fact that missing preferable Sports Centers around our neighbourhood will also be one of the reasons to miss. \n",
    "\n",
    "Study below is to examine the neighbourhoods based on factors like ease of access, the popularity of sports centers and user preferences to identify the similarities between neighbourhoods to answer an ultimate question,\n",
    "\n",
    "> #### _\"Which neighbourhoods are similar to provide sophisticated access to Sports Centers in Toronto to lead a healthier life and which aren't\"_\n",
    "\n",
    "##### Relevant stakeholders / Interesting parties\n",
    "\n",
    "Study here is to help people who are looking to change their neighbourhoods or trying to identify neighbourhoods with sophisticated access to sports centers. However, it is not restricted to only those, it can also help persons, who are looking to open a Sports Center.\n",
    "\n",
    "[1]: https://www.health.harvard.edu/topics/exercise-and-fitness"
   ]
  }
 ],
 "metadata": {
  "kernelspec": {
   "display_name": "Python 3",
   "language": "python",
   "name": "python3"
  },
  "language_info": {
   "codemirror_mode": {
    "name": "ipython",
    "version": 3
   },
   "file_extension": ".py",
   "mimetype": "text/x-python",
   "name": "python",
   "nbconvert_exporter": "python",
   "pygments_lexer": "ipython3",
   "version": "3.6.3"
  }
 },
 "nbformat": 4,
 "nbformat_minor": 2
}
