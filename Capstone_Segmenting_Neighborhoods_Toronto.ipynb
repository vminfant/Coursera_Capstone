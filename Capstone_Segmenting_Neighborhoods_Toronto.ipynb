{
 "cells": [
  {
   "cell_type": "markdown",
   "metadata": {},
   "source": [
    "# Segmenting and Clustering Neighborhoods in Toronto"
   ]
  },
  {
   "cell_type": "markdown",
   "metadata": {},
   "source": [
    "###### Import libraries "
   ]
  },
  {
   "cell_type": "code",
   "execution_count": 172,
   "metadata": {},
   "outputs": [],
   "source": [
    "import numpy as np\n",
    "import pandas as pd\n",
    "import matplotlib.pyplot as plot\n",
    "import requests \n",
    "import bs4"
   ]
  },
  {
   "cell_type": "markdown",
   "metadata": {},
   "source": [
    "###### Get Data from Wiki"
   ]
  },
  {
   "cell_type": "code",
   "execution_count": 173,
   "metadata": {},
   "outputs": [
    {
     "name": "stdout",
     "output_type": "stream",
     "text": [
      "Get Successful!\n"
     ]
    }
   ],
   "source": [
    "response = requests.get('https://en.wikipedia.org/wiki/List_of_postal_codes_of_Canada:_M')\n",
    "if response.status_code == 200: \n",
    "    print (\"Get Successful!\")\n",
    "else:\n",
    "    print (\"Get Failed! Check URL\")"
   ]
  },
  {
   "cell_type": "markdown",
   "metadata": {},
   "source": [
    "###### Payload Received From Wiki"
   ]
  },
  {
   "cell_type": "code",
   "execution_count": 174,
   "metadata": {},
   "outputs": [],
   "source": [
    "# print(response.text) # Commented out to avoid filling the notebook with the response text"
   ]
  },
  {
   "cell_type": "markdown",
   "metadata": {},
   "source": [
    "###### Parse the response text using BeautifulSoap"
   ]
  },
  {
   "cell_type": "code",
   "execution_count": 175,
   "metadata": {},
   "outputs": [
    {
     "data": {
      "text/plain": [
       "<title>List of postal codes of Canada: M - Wikipedia</title>"
      ]
     },
     "execution_count": 175,
     "metadata": {},
     "output_type": "execute_result"
    }
   ],
   "source": [
    "resp_soap = bs4.BeautifulSoup(response.text, 'html.parser')\n",
    "resp_soap.title"
   ]
  },
  {
   "cell_type": "markdown",
   "metadata": {},
   "source": [
    "### Assumptions\n",
    " * Postal Code & Borough combination is expected have same value for all the nieighbourhoods with those combinations.\n",
    " * **_check_\\__for_\\__discrepancy_** is used to shout if there are any discrepancies found while processing the rows. "
   ]
  },
  {
   "cell_type": "code",
   "execution_count": 176,
   "metadata": {},
   "outputs": [],
   "source": [
    "def check_for_discrepancy(pos_dict,row_list):\n",
    "    \n",
    "    if row_list[0] in pos_dict and pos_dict[row_list[0]][0] != row_list[1]:\n",
    "        print (\"Warning! Existing Postal Codes and Borough combination is differeing from the new row\")\n",
    "        print (f\"Existing Postal Code {row_list[0]} Borough {pos_dict[row_list[0]][0]}\")\n",
    "        print (f\"New Postal Code {row_list[0]} Borough {row_list[1]}\")"
   ]
  },
  {
   "cell_type": "markdown",
   "metadata": {},
   "source": [
    "### Approach\n",
    "* Very first table from the Response Text will be parsed to get all the Postal Codes\n",
    "* **_get_\\__list_\\__of_\\__postal_\\__codes_** will parse all the rows.\n",
    "* **_get_\\__row_\\__list_** will parse the columns.\n",
    "* Postal Code Dictionary (_with postal code as a Key_) is maintained to store all the parsed postal codes. \n",
    "* If Borough i.e. Column #2 is \"Not Assigned\", it will skip adding the rows to the Postal Code Dictionary \n",
    "* If Nieighbourhood i.e. Column #3 is \"Not Assigned\" but if the Borough is valid, it will assign the Borough as its neighbourhood before adding the row to the Dictionary. \n",
    "* List is maintained to keep track of the Neighbourhoods that are having same postal code\n",
    "* Another List is maintained to keep track of the rows that are having valid Borough but \"Not assigned\" Neighbourhood"
   ]
  },
  {
   "cell_type": "code",
   "execution_count": 177,
   "metadata": {},
   "outputs": [],
   "source": [
    "def add_to_dictionary(pos_dict,row_list,more_nbh):\n",
    "    \n",
    "    if (row_list[0]) in pos_dict:\n",
    "        more_nbh.append(row_list[0])\n",
    "        pos_dict[row_list[0]][1] = pos_dict[row_list[0]][1] + \", \" + row_list[2]\n",
    "    else:\n",
    "        pos_dict[row_list[0]] = [row_list[1],row_list[2]]"
   ]
  },
  {
   "cell_type": "code",
   "execution_count": 178,
   "metadata": {},
   "outputs": [],
   "source": [
    "def get_row_list(row):\n",
    "    \n",
    "    row_list = []    \n",
    "    for column in row:\n",
    "        \n",
    "        if isinstance(column,bs4.element.Tag): # Avoid processing NavigableString - Mostly newline char            \n",
    "            row_list.append(column.get_text(strip=True))\n",
    "            \n",
    "    return row_list"
   ]
  },
  {
   "cell_type": "code",
   "execution_count": null,
   "metadata": {},
   "outputs": [],
   "source": [
    "def get_list_of_postal_codes(soap_msg_table):\n",
    "    \n",
    "    pos_dict = {}\n",
    "    more_nbh = []\n",
    "    na_nbh = []\n",
    "    for row in soap_msg_table:\n",
    "        \n",
    "        if isinstance(row,bs4.element.Tag): # Avoid processing NavigableString - Mostly newline char\n",
    "            row_list = get_row_list(row)\n",
    "            \n",
    "            if row_list[1].replace(' ','').lower() != 'notassigned' and row_list[2].replace(' ','').lower() == 'notassigned':\n",
    "                na_nbh.append(row_list[0])\n",
    "                row_list[2] = row_list[1]\n",
    "                add_to_dictionary(pos_dict,row_list,more_nbh)\n",
    "                \n",
    "            elif row_list[1].replace(' ','').lower() != 'notassigned':                \n",
    "                add_to_dictionary(pos_dict,row_list,more_nbh)\n",
    "            \n",
    "            # Check for discrepancy\n",
    "            check_for_discrepancy(pos_dict,row_list)\n",
    "            \n",
    "    return pos_dict,more_nbh,na_nbh"
   ]
  },
  {
   "cell_type": "markdown",
   "metadata": {},
   "source": [
    "###### Extracting & Parsing the very first table from the response text"
   ]
  },
  {
   "cell_type": "code",
   "execution_count": null,
   "metadata": {
    "scrolled": true
   },
   "outputs": [],
   "source": [
    "resp_table = resp_soap.table\n",
    "postal_code_list, more_nbh, na_nbh = get_list_of_postal_codes(resp_table.tbody)"
   ]
  },
  {
   "cell_type": "markdown",
   "metadata": {},
   "source": [
    "###### Creating a DataFrame from the Parsed Dictionary. \n",
    "* _orient_ is used to parse the keys as Index\n",
    "* Removing the first row as it is a header from the table\n",
    "* Resetting the Index to get the DataFrame in an expected way. \n",
    "* Adding the expected column names to the DataFrame "
   ]
  },
  {
   "cell_type": "code",
   "execution_count": null,
   "metadata": {},
   "outputs": [],
   "source": [
    "pos_df = pd.DataFrame.from_dict(postal_code_list,orient='index')\n",
    "pos_df = pos_df[1:]\n",
    "pos_df = pos_df.reset_index()\n",
    "pos_df.columns = ['PostalCode','Borough','Neighborhood']"
   ]
  },
  {
   "cell_type": "markdown",
   "metadata": {},
   "source": [
    "###### Postal Code with more than one neightbourhood - Eg : M5A is used"
   ]
  },
  {
   "cell_type": "code",
   "execution_count": null,
   "metadata": {},
   "outputs": [],
   "source": [
    "pos_df.loc[pos_df['PostalCode'] == 'M5A']['Neighborhood'].values"
   ]
  },
  {
   "cell_type": "markdown",
   "metadata": {},
   "source": [
    "###### All Postal Codes that are having more than one neightbourhood"
   ]
  },
  {
   "cell_type": "code",
   "execution_count": null,
   "metadata": {},
   "outputs": [],
   "source": [
    "pos_df.loc[pos_df['PostalCode'].isin(set(more_nbh))]"
   ]
  },
  {
   "cell_type": "markdown",
   "metadata": {},
   "source": [
    "###### Postal Codes that were having \"Not assigned\" neighbourhood"
   ]
  },
  {
   "cell_type": "code",
   "execution_count": null,
   "metadata": {},
   "outputs": [],
   "source": [
    "pos_df.loc[pos_df['PostalCode'].isin(set(na_nbh))]"
   ]
  },
  {
   "cell_type": "markdown",
   "metadata": {},
   "source": [
    "###### Resultant DataFrame - Only first 10 rows are displayed"
   ]
  },
  {
   "cell_type": "code",
   "execution_count": null,
   "metadata": {},
   "outputs": [],
   "source": [
    "pos_df.head(10)"
   ]
  },
  {
   "cell_type": "markdown",
   "metadata": {},
   "source": [
    "###### Shape of the Resultant Dataframe"
   ]
  },
  {
   "cell_type": "code",
   "execution_count": null,
   "metadata": {
    "scrolled": false
   },
   "outputs": [],
   "source": [
    "print(f\"{pos_df.shape}\")"
   ]
  },
  {
   "cell_type": "markdown",
   "metadata": {},
   "source": [
    "## Extracting Geospatial Data"
   ]
  },
  {
   "cell_type": "markdown",
   "metadata": {},
   "source": [
    "<font color=red>**Note:**</font> I don't seem to be recieveing data that are consistent with the Geospatial Data Provided in the Assignment Section. So, i will be using the data file provided in the Assignment Section"
   ]
  },
  {
   "cell_type": "code",
   "execution_count": null,
   "metadata": {
    "scrolled": true
   },
   "outputs": [],
   "source": [
    "!wget -q http://cocl.us/Geospatial_data"
   ]
  },
  {
   "cell_type": "markdown",
   "metadata": {},
   "source": [
    "###### Read the data file into a DataFrame & Rename the columns to match the existing DataFrame"
   ]
  },
  {
   "cell_type": "code",
   "execution_count": null,
   "metadata": {},
   "outputs": [],
   "source": [
    "geo_data = pd.read_csv('Geospatial_data',header=0)\n",
    "geo_data.columns = ['PostalCode','Latitude','Longitude']"
   ]
  },
  {
   "cell_type": "code",
   "execution_count": null,
   "metadata": {
    "scrolled": true
   },
   "outputs": [],
   "source": [
    "geo_data.head()"
   ]
  },
  {
   "cell_type": "markdown",
   "metadata": {},
   "source": [
    "###### Make sure all the postal codes are having the corresponding Latitude & Longitude values from Geospatial_data"
   ]
  },
  {
   "cell_type": "code",
   "execution_count": null,
   "metadata": {},
   "outputs": [],
   "source": [
    "pos_df.loc[~pos_df['PostalCode'].isin(geo_data['PostalCode'])].size"
   ]
  },
  {
   "cell_type": "markdown",
   "metadata": {},
   "source": [
    "###### Merge the DataFrames based on Postal Codes"
   ]
  },
  {
   "cell_type": "code",
   "execution_count": null,
   "metadata": {
    "scrolled": true
   },
   "outputs": [],
   "source": [
    "mgd_pos_df = pos_df.merge(right=geo_data,on='PostalCode')\n",
    "mgd_pos_df.head(10)"
   ]
  },
  {
   "cell_type": "markdown",
   "metadata": {},
   "source": [
    "###### Shape of the Merged Dataframe"
   ]
  },
  {
   "cell_type": "code",
   "execution_count": null,
   "metadata": {},
   "outputs": [],
   "source": [
    "print(f\"{mgd_pos_df.shape}\")"
   ]
  }
 ],
 "metadata": {
  "kernelspec": {
   "display_name": "Python 3",
   "language": "python",
   "name": "python3"
  },
  "language_info": {
   "codemirror_mode": {
    "name": "ipython",
    "version": 3
   },
   "file_extension": ".py",
   "mimetype": "text/x-python",
   "name": "python",
   "nbconvert_exporter": "python",
   "pygments_lexer": "ipython3",
   "version": "3.6.3"
  }
 },
 "nbformat": 4,
 "nbformat_minor": 2
}
